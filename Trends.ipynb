{
 "cells": [
  {
   "cell_type": "code",
   "execution_count": 49,
   "metadata": {},
   "outputs": [
    {
     "data": {
      "text/plain": [
       "<matplotlib.axes._subplots.AxesSubplot at 0x11b683400>"
      ]
     },
     "execution_count": 49,
     "metadata": {},
     "output_type": "execute_result"
    },
    {
     "data": {
      "image/png": "[encoded data removed]",
      "text/plain": [
       "<Figure size 432x288 with 1 Axes>"
      ]
     },
     "metadata": {},
     "output_type": "display_data"
    }
   ],
   "source": [
    "import pandas as pd\n",
    "\n",
    "data = pd.read_csv('book1.csv')\n",
    "\n",
    "food_data = data[['Food','Count_14','Total_14','Count_12','Total_12']]\n",
    "food_data.rename({'Count_14':'Year_2014','Count_12':'Year_2012'},axis=1,inplace=True)\n",
    "\n",
    "food_data = food_data.loc[food_data.Food.notnull()]\n",
    "\n",
    "food_data\n",
    "\n",
    "unhealthy = ['Beverage w/ additions','Cereal w/ additions','Bread/baked products w/ additions','Frozen meals','Ice cream/frozen yogurt w/ additions','Dried beans and vegetable w/ additions','LunchablesÂ®','Chips w/ additions']\n",
    "healthy = ['Salad','Sandwiches','Soup','Fruit w/ additions','Tortilla products','Meat, poultry, fish','Other mixtures']\n",
    "\n",
    "for unhealthy_value in unhealthy:\n",
    "    food_data.Food = food_data.Food.str.replace(unhealthy_value,'Unhealthy')\n",
    "\n",
    "for healthy_value in healthy:\n",
    "    food_data.Food = food_data.Food.str.replace(healthy_value,'Healthy')\n",
    "\n",
    "food_data1 = food_data.groupby(['Food']).agg({'Year_2014':'sum','Total_14':'max','Year_2012':'sum','Total_12':'max'})\n",
    "\n",
    "food_data1.Year_2014 = (food_data1.Year_2014/food_data1.Total_14)\n",
    "food_data1.Year_2012 = (food_data1.Year_2012/food_data1.Total_14)\n",
    "\n",
    "food_data1 = food_data1[['Year_2014','Year_2012']]\n",
    "\n",
    "food_data1.plot.bar(rot=0)"
   ]
  }
 ],
 "metadata": {
  "kernelspec": {
   "display_name": "Python 3",
   "language": "python",
   "name": "python3"
  },
  "language_info": {
   "codemirror_mode": {
    "name": "ipython",
    "version": 3
   },
   "file_extension": ".py",
   "mimetype": "text/x-python",
   "name": "python",
   "nbconvert_exporter": "python",
   "pygments_lexer": "ipython3",
   "version": "3.6.8"
  }
 },
 "nbformat": 4,
 "nbformat_minor": 2
}
